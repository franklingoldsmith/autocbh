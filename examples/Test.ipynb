{
 "cells": [
  {
   "cell_type": "code",
   "execution_count": 1,
   "id": "a648bb9c",
   "metadata": {},
   "outputs": [],
   "source": [
    "# add autocbh package to path\n",
    "import sys\n",
    "sys.path.append('../autocbh')\n",
    "\n",
    "# import relevant rdkit \n",
    "from rdkit import Chem\n",
    "# drawing tools used for CBH.buildCBH visualization\n",
    "from rdkit.Chem import Draw, rdChemReactions\n",
    "from rdkit.Chem.Draw import IPythonConsole\n",
    "IPythonConsole.drawOptions.addAtomIndices = True\n",
    "from IPython.display import SVG, display\n",
    "\n",
    "# Import CBH generator\n",
    "from CBH import buildCBH\n",
    "from calcCBH import calcCBH\n",
    "from TN import thermochemical_network, visualize\n",
    "from UQ import uncertainty_quantification\n",
    "\n",
    "# only needed for np.inf example for now\n",
    "import numpy as np\n",
    "from numpy import inf\n",
    "import pandas as pd"
   ]
  },
  {
   "cell_type": "code",
   "execution_count": 2,
   "id": "0b525e65",
   "metadata": {},
   "outputs": [],
   "source": [
    "# Initialize module\n",
    "c = calcCBH(methods=[], # CHANGED\n",
    "            dataframe_path='../data/pfas_energies.pkl', # supply pickled dataframe \n",
    "            method_keys_path='../data/methods_keys.yaml', # supply yaml file mapping method names to each QM energy column name\n",
    "            rankings_path='../data/rankings.yaml', # supply yaml file mapping each method to a level of theory ranking\n",
    "            zero_out_heats=True) # ensures that the heats of formation/rxn for nonexperimental values are converted to 0 from nan\n"
   ]
  },
  {
   "cell_type": "code",
   "execution_count": 3,
   "id": "3d29c12a",
   "metadata": {},
   "outputs": [
    {
     "name": "stdout",
     "output_type": "stream",
     "text": [
      "Process completed with errors in 22 species\n",
      "These errors are likely to have propagated for the calculation of heats of formation of larger species.\n",
      "Updating the reference values of species in the database will improve accuracy of heats of formation.\n",
      "To inspect the errors, run the calcCBH.print_errors() method.\n"
     ]
    },
    {
     "data": {
      "text/html": [
       "<div>\n",
       "<style scoped>\n",
       "    .dataframe tbody tr th:only-of-type {\n",
       "        vertical-align: middle;\n",
       "    }\n",
       "\n",
       "    .dataframe tbody tr th {\n",
       "        vertical-align: top;\n",
       "    }\n",
       "\n",
       "    .dataframe thead th {\n",
       "        text-align: right;\n",
       "    }\n",
       "</style>\n",
       "<table border=\"1\" class=\"dataframe\">\n",
       "  <thead>\n",
       "    <tr style=\"text-align: right;\">\n",
       "      <th></th>\n",
       "      <th>DfH</th>\n",
       "      <th>DrxnH</th>\n",
       "      <th>source</th>\n",
       "    </tr>\n",
       "    <tr>\n",
       "      <th>smiles</th>\n",
       "      <th></th>\n",
       "      <th></th>\n",
       "      <th></th>\n",
       "    </tr>\n",
       "  </thead>\n",
       "  <tbody>\n",
       "    <tr>\n",
       "      <th>F</th>\n",
       "      <td>-272.680000</td>\n",
       "      <td>0.000000</td>\n",
       "      <td>ATcT</td>\n",
       "    </tr>\n",
       "    <tr>\n",
       "      <th>O</th>\n",
       "      <td>-238.898000</td>\n",
       "      <td>0.000000</td>\n",
       "      <td>ATcT</td>\n",
       "    </tr>\n",
       "    <tr>\n",
       "      <th>[H][H]</th>\n",
       "      <td>0.000000</td>\n",
       "      <td>0.000000</td>\n",
       "      <td>ATcT</td>\n",
       "    </tr>\n",
       "    <tr>\n",
       "      <th>C</th>\n",
       "      <td>-66.551000</td>\n",
       "      <td>0.000000</td>\n",
       "      <td>ATcT</td>\n",
       "    </tr>\n",
       "    <tr>\n",
       "      <th>CF</th>\n",
       "      <td>-227.480000</td>\n",
       "      <td>0.000000</td>\n",
       "      <td>ATcT</td>\n",
       "    </tr>\n",
       "    <tr>\n",
       "      <th>...</th>\n",
       "      <td>...</td>\n",
       "      <td>...</td>\n",
       "      <td>...</td>\n",
       "    </tr>\n",
       "    <tr>\n",
       "      <th>FC(F)(F)C(F)(F)C(F)(F)C(F)(F)C(F)(F)C(F)(F)C(F)(F)F</th>\n",
       "      <td>-3382.594855</td>\n",
       "      <td>2.032257</td>\n",
       "      <td>CBHavg-(4-H, 3-F)//m062x_dlpno+wb97xd_dlpno</td>\n",
       "    </tr>\n",
       "    <tr>\n",
       "      <th>CC(F)(F)C(F)(F)C(F)(F)C(F)(F)C(F)(F)C(C)(F)F</th>\n",
       "      <td>-2615.259675</td>\n",
       "      <td>2.145206</td>\n",
       "      <td>CBHavg-(4-H, 6-F)//m062x_dlpno+wb97xd_dlpno</td>\n",
       "    </tr>\n",
       "    <tr>\n",
       "      <th>CC(F)(F)C(F)(F)C(F)(F)C(F)(F)C(F)(F)C(F)(F)C(F)(F)F</th>\n",
       "      <td>-3205.459270</td>\n",
       "      <td>0.400158</td>\n",
       "      <td>CBHavg-(4-H, 6-F)//m062x_dlpno</td>\n",
       "    </tr>\n",
       "    <tr>\n",
       "      <th>O=C(O)C(F)(F)C(F)(F)C(F)(F)C(F)(F)C(F)(F)C(F)(F)C(F)(F)F</th>\n",
       "      <td>-3483.009550</td>\n",
       "      <td>2.251323</td>\n",
       "      <td>CBHavg-(4-H, 3-F)//m062x_dlpno+wb97xd_dlpno</td>\n",
       "    </tr>\n",
       "    <tr>\n",
       "      <th>FC(F)(F)C(F)(F)C(F)(F)C(F)(F)C(F)(F)C(F)(F)C(F)(F)C(F)(F)F</th>\n",
       "      <td>-3794.108495</td>\n",
       "      <td>1.275673</td>\n",
       "      <td>CBHavg-(4-H, 3-F)//m062x_dlpno+wb97xd_dlpno</td>\n",
       "    </tr>\n",
       "  </tbody>\n",
       "</table>\n",
       "<p>73 rows × 3 columns</p>\n",
       "</div>"
      ],
      "text/plain": [
       "                                                            DfH    DrxnH  \\\n",
       "smiles                                                                     \n",
       "F                                                   -272.680000 0.000000   \n",
       "O                                                   -238.898000 0.000000   \n",
       "[H][H]                                                 0.000000 0.000000   \n",
       "C                                                    -66.551000 0.000000   \n",
       "CF                                                  -227.480000 0.000000   \n",
       "...                                                         ...      ...   \n",
       "FC(F)(F)C(F)(F)C(F)(F)C(F)(F)C(F)(F)C(F)(F)C(F)... -3382.594855 2.032257   \n",
       "CC(F)(F)C(F)(F)C(F)(F)C(F)(F)C(F)(F)C(C)(F)F       -2615.259675 2.145206   \n",
       "CC(F)(F)C(F)(F)C(F)(F)C(F)(F)C(F)(F)C(F)(F)C(F)... -3205.459270 0.400158   \n",
       "O=C(O)C(F)(F)C(F)(F)C(F)(F)C(F)(F)C(F)(F)C(F)(F... -3483.009550 2.251323   \n",
       "FC(F)(F)C(F)(F)C(F)(F)C(F)(F)C(F)(F)C(F)(F)C(F)... -3794.108495 1.275673   \n",
       "\n",
       "                                                                                         source  \n",
       "smiles                                                                                           \n",
       "F                                                                                          ATcT  \n",
       "O                                                                                          ATcT  \n",
       "[H][H]                                                                                     ATcT  \n",
       "C                                                                                          ATcT  \n",
       "CF                                                                                         ATcT  \n",
       "...                                                                                         ...  \n",
       "FC(F)(F)C(F)(F)C(F)(F)C(F)(F)C(F)(F)C(F)(F)C(F)...  CBHavg-(4-H, 3-F)//m062x_dlpno+wb97xd_dlpno  \n",
       "CC(F)(F)C(F)(F)C(F)(F)C(F)(F)C(F)(F)C(C)(F)F        CBHavg-(4-H, 6-F)//m062x_dlpno+wb97xd_dlpno  \n",
       "CC(F)(F)C(F)(F)C(F)(F)C(F)(F)C(F)(F)C(F)(F)C(F)...               CBHavg-(4-H, 6-F)//m062x_dlpno  \n",
       "O=C(O)C(F)(F)C(F)(F)C(F)(F)C(F)(F)C(F)(F)C(F)(F...  CBHavg-(4-H, 3-F)//m062x_dlpno+wb97xd_dlpno  \n",
       "FC(F)(F)C(F)(F)C(F)(F)C(F)(F)C(F)(F)C(F)(F)C(F)...  CBHavg-(4-H, 3-F)//m062x_dlpno+wb97xd_dlpno  \n",
       "\n",
       "[73 rows x 3 columns]"
      ]
     },
     "execution_count": 3,
     "metadata": {},
     "output_type": "execute_result"
    }
   ],
   "source": [
    "c.calc_Hf(saturate=[1, 9], # only use CBH-H\n",
    "          max_rung= None, # can choose a maximum rung, otherwise will do highest possible\n",
    "          alt_rxn_option=None, \n",
    "          priority='rel_coeff',\n",
    "          surface_smiles=None)"
   ]
  },
  {
   "cell_type": "code",
   "execution_count": 5,
   "id": "0cdf0279",
   "metadata": {},
   "outputs": [
    {
     "name": "stdout",
     "output_type": "stream",
     "text": [
      "{'CC(F)(F)C(F)(F)C(=O)O': 1, 'CC(F)(F)C(F)(F)C(C)(F)F': 3, 'CC(F)(F)C(F)(F)C(F)(F)F': 1, 'CC(F)(F)C(C)(F)F': -4}\n",
      "9\n",
      "{'CC(F)(F)C(F)(F)C(=O)O': 1, 'CC(F)(F)C(F)(F)C(C)(F)F': 3, 'CC(F)(F)C(F)(F)C(F)(F)F': 1, 'CC(F)(F)C(C)(F)F': -4}\n",
      "9\n",
      "{'CC(F)(F)C(F)(F)C(=O)O': 1, 'CC(F)(F)C(F)(F)C(C)(F)F': 3, 'CC(F)(F)C(F)(F)C(F)(F)F': 1, 'CC(F)(F)C(C)(F)F': -4}\n",
      "9\n",
      "{'CC(F)(F)C(F)(F)F': 1, 'CC(F)(F)C(=O)O': 1, 'CC(F)(F)C(C)(F)F': 4, 'CC(C)(F)F': -5}\n",
      "11\n",
      "{'CC(=O)O': 1, 'CC(C)(F)F': 5, 'CC(F)(F)F': 1, 'CC': -6}\n",
      "13\n",
      "{'CC': 6, 'C=O': 1, 'CO': 1, 'CF': 13, 'C': -20}\n",
      "41\n",
      "{'O': 2, 'F': 13, 'C': 7, '[H][H]': -22.0}\n",
      "44.0\n",
      "4\n"
     ]
    }
   ],
   "source": [
    "smiles = 'O=C(O)C(F)(F)C(F)(F)C(F)(F)C(F)(F)C(F)(F)C(F)(F)F'\n",
    "c.error_messages[smiles] = []\n",
    "label = 'H'\n",
    "cbh = buildCBH(smiles, label)\n",
    "\n",
    "coeffs =[]\n",
    "rungs = list(reversed(range(6+1)))\n",
    "for rung in rungs:\n",
    "    c._check_rung_usability(smiles, \n",
    "                            test_rung=rung,\n",
    "                            cbh_rcts=cbh.cbh_rcts,\n",
    "                            cbh_pdts=cbh.cbh_pdts,\n",
    "                            label=label)\n",
    "    print(c.rxns[smiles][label])\n",
    "    coeffs.append(sum(abs(np.array(list(c.rxns[smiles][label].values())))))\n",
    "    print(coeffs[-1])\n",
    "if min(coeffs) == coeffs[0]:\n",
    "    print(rungs[np.where(coeffs == coeffs[0])[0][-1]])\n",
    "else:\n",
    "    print(rungs[np.where(coeffs < coeffs[0])[0][0]])"
   ]
  },
  {
   "cell_type": "code",
   "execution_count": 4,
   "id": "9f1d24a9",
   "metadata": {},
   "outputs": [
    {
     "data": {
      "text/plain": [
       "([{'FC(F)(F)C(F)(F)C(F)(F)C(F)(F)F': 4,\n",
       "   'FC(F)(F)C(F)(F)C(F)(F)F': -4,\n",
       "   'O=C(O)C(F)(F)C(F)(F)F': 1},\n",
       "  {'FC(F)(F)C(F)(F)C(F)(F)C(F)(F)F': 4,\n",
       "   'O=C(O)C(F)(F)C(F)(F)F': 1,\n",
       "   'FC(F)(F)C(F)(F)C(F)(F)F': -4},\n",
       "  {'FC(F)(F)C(F)(F)C(F)(F)C(F)(F)F': 4,\n",
       "   'O=C(O)C(F)(F)C(F)(F)F': 1,\n",
       "   'FC(F)(F)C(F)(F)C(F)(F)F': -4},\n",
       "  {'FC(F)(F)C(F)(F)C(F)(F)C(F)(F)F': 4,\n",
       "   'O=C(O)C(F)(F)C(F)(F)F': 1,\n",
       "   'FC(F)(F)C(F)(F)C(F)(F)F': -4},\n",
       "  {'FC(F)(F)C(F)(F)C(F)(F)F': 5, 'O=C(O)C(F)(F)F': 1, 'FC(F)(F)C(F)(F)F': -5},\n",
       "  {'FC(F)(F)C(F)(F)F': 6, 'OC(F)(F)F': 1, 'O=C(F)F': 1, 'FC(F)(F)F': -7},\n",
       "  {'C': 3.75, 'O': 2, 'FC(F)(F)F': 3.25, '[H][H]': -9.0}],\n",
       " 3)"
      ]
     },
     "execution_count": 4,
     "metadata": {},
     "output_type": "execute_result"
    }
   ],
   "source": [
    "smiles = 'O=C(O)C(F)(F)C(F)(F)C(F)(F)C(F)(F)C(F)(F)C(F)(F)F'\n",
    "c.error_messages[smiles] = []\n",
    "label = 'F'\n",
    "cbh = buildCBH(smiles, label)\n",
    "c._decompose_rxn(smiles, \n",
    "                 test_rung=6,\n",
    "                 cbh_rcts=cbh.cbh_rcts,\n",
    "                 cbh_pdts=cbh.cbh_pdts,\n",
    "                 label=label)"
   ]
  },
  {
   "cell_type": "code",
   "execution_count": 6,
   "id": "c5bef7ae",
   "metadata": {},
   "outputs": [
    {
     "data": {
      "text/plain": [
       "{'CC(F)(F)C(F)(F)C(C)(F)F': 3,\n",
       " 'CC(F)(F)C(F)(F)C(F)(F)F': 1,\n",
       " 'CC(F)(F)C(C)(F)F': -4,\n",
       " 'CC(F)(F)C(F)(F)C(=O)O': 1}"
      ]
     },
     "execution_count": 6,
     "metadata": {},
     "output_type": "execute_result"
    }
   ],
   "source": [
    "c.rxns[smiles][label]"
   ]
  },
  {
   "cell_type": "code",
   "execution_count": null,
   "id": "e4748b3d",
   "metadata": {},
   "outputs": [],
   "source": [
    "c.rxns['O=C(O)C(F)(F)C(F)(F)C(F)(F)C(F)(F)C(F)(F)C(F)(F)F']"
   ]
  }
 ],
 "metadata": {
  "kernelspec": {
   "display_name": "Python 3 (ipykernel)",
   "language": "python",
   "name": "python3"
  },
  "language_info": {
   "codemirror_mode": {
    "name": "ipython",
    "version": 3
   },
   "file_extension": ".py",
   "mimetype": "text/x-python",
   "name": "python",
   "nbconvert_exporter": "python",
   "pygments_lexer": "ipython3",
   "version": "3.9.13"
  }
 },
 "nbformat": 4,
 "nbformat_minor": 5
}
